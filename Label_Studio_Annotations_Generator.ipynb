{
  "nbformat": 4,
  "nbformat_minor": 0,
  "metadata": {
    "colab": {
      "provenance": [],
      "include_colab_link": true
    },
    "kernelspec": {
      "name": "python3",
      "display_name": "Python 3"
    },
    "language_info": {
      "name": "python"
    }
  },
  "cells": [
    {
      "cell_type": "markdown",
      "metadata": {
        "id": "view-in-github",
        "colab_type": "text"
      },
      "source": [
        "<a href=\"https://colab.research.google.com/github/zealair12/CV-for-OCR---PwC/blob/main/Label_Studio_Annotations_Generator.ipynb\" target=\"_parent\"><img src=\"https://colab.research.google.com/assets/colab-badge.svg\" alt=\"Open In Colab\"/></a>"
      ]
    },
    {
      "cell_type": "markdown",
      "source": [
        "## Install libraries"
      ],
      "metadata": {
        "id": "ff6KgaidjbVj"
      }
    },
    {
      "cell_type": "code",
      "source": [
        "!apt-get update\n",
        "!apt-get install -y tesseract-ocr\n"
      ],
      "metadata": {
        "colab": {
          "base_uri": "https://localhost:8080/"
        },
        "id": "IoAFsUVxyOmE",
        "outputId": "f0d5736b-b4ce-4f96-9024-8a551c8c5170"
      },
      "execution_count": null,
      "outputs": [
        {
          "output_type": "stream",
          "name": "stdout",
          "text": [
            "\r0% [Working]\r            \rHit:1 https://cloud.r-project.org/bin/linux/ubuntu jammy-cran40/ InRelease\n",
            "Hit:2 https://developer.download.nvidia.com/compute/cuda/repos/ubuntu2204/x86_64  InRelease\n",
            "Hit:3 https://r2u.stat.illinois.edu/ubuntu jammy InRelease\n",
            "Hit:4 https://ppa.launchpadcontent.net/deadsnakes/ppa/ubuntu jammy InRelease\n",
            "Hit:5 http://archive.ubuntu.com/ubuntu jammy InRelease\n",
            "Hit:6 https://ppa.launchpadcontent.net/graphics-drivers/ppa/ubuntu jammy InRelease\n",
            "Hit:7 http://archive.ubuntu.com/ubuntu jammy-updates InRelease\n",
            "Hit:8 http://security.ubuntu.com/ubuntu jammy-security InRelease\n",
            "Hit:9 https://ppa.launchpadcontent.net/ubuntugis/ppa/ubuntu jammy InRelease\n",
            "Hit:10 http://archive.ubuntu.com/ubuntu jammy-backports InRelease\n",
            "Reading package lists... Done\n",
            "W: Skipping acquire of configured file 'main/source/Sources' as repository 'https://r2u.stat.illinois.edu/ubuntu jammy InRelease' does not seem to provide it (sources.list entry misspelt?)\n",
            "Reading package lists... Done\n",
            "Building dependency tree... Done\n",
            "Reading state information... Done\n",
            "tesseract-ocr is already the newest version (4.1.1-2.1build1).\n",
            "0 upgraded, 0 newly installed, 0 to remove and 31 not upgraded.\n"
          ]
        }
      ]
    },
    {
      "cell_type": "code",
      "source": [
        "!pip install pytesseract\n",
        "!pip install pillow"
      ],
      "metadata": {
        "colab": {
          "base_uri": "https://localhost:8080/"
        },
        "id": "knmpLSuoxRhS",
        "outputId": "2b1fe648-d939-4d86-ad6d-b90618b621ff"
      },
      "execution_count": null,
      "outputs": [
        {
          "output_type": "stream",
          "name": "stdout",
          "text": [
            "Collecting pytesseract\n",
            "  Downloading pytesseract-0.3.13-py3-none-any.whl.metadata (11 kB)\n",
            "Requirement already satisfied: packaging>=21.3 in /usr/local/lib/python3.11/dist-packages (from pytesseract) (24.2)\n",
            "Requirement already satisfied: Pillow>=8.0.0 in /usr/local/lib/python3.11/dist-packages (from pytesseract) (11.1.0)\n",
            "Downloading pytesseract-0.3.13-py3-none-any.whl (14 kB)\n",
            "Installing collected packages: pytesseract\n",
            "Successfully installed pytesseract-0.3.13\n",
            "Requirement already satisfied: pillow in /usr/local/lib/python3.11/dist-packages (11.1.0)\n"
          ]
        }
      ]
    },
    {
      "cell_type": "code",
      "source": [
        "!tesseract --version\n"
      ],
      "metadata": {
        "colab": {
          "base_uri": "https://localhost:8080/"
        },
        "id": "QKqhPKPNyVrM",
        "outputId": "7bc1ad72-6ae0-4d3e-e63e-9ad18a217ef9"
      },
      "execution_count": null,
      "outputs": [
        {
          "output_type": "stream",
          "name": "stdout",
          "text": [
            "tesseract 4.1.1\n",
            " leptonica-1.82.0\n",
            "  libgif 5.1.9 : libjpeg 8d (libjpeg-turbo 2.1.1) : libpng 1.6.37 : libtiff 4.3.0 : zlib 1.2.11 : libwebp 1.2.2 : libopenjp2 2.4.0\n",
            " Found AVX2\n",
            " Found AVX\n",
            " Found FMA\n",
            " Found SSE\n",
            " Found libarchive 3.6.0 zlib/1.2.11 liblzma/5.2.5 bz2lib/1.0.8 liblz4/1.9.3 libzstd/1.4.8\n"
          ]
        }
      ]
    },
    {
      "cell_type": "markdown",
      "source": [
        "## Code files"
      ],
      "metadata": {
        "id": "aB2HW5Byjg1q"
      }
    },
    {
      "cell_type": "code",
      "source": [
        "import pytesseract\n",
        "from PIL import Image\n",
        "import json\n",
        "import requests\n",
        "from io import BytesIO"
      ],
      "metadata": {
        "id": "eJRSZ4xUjjTj"
      },
      "execution_count": null,
      "outputs": []
    },
    {
      "cell_type": "code",
      "source": [
        "# Path to the image\n",
        "# for loan worksheet\n",
        "image_url = 'https://allies-assets.s3.us-east-1.amazonaws.com/birthplan_builder_assets/extra_images/LenderFeesWorksheetNew_pages.jpg'\n",
        "\n",
        "# for invoice\n",
        "#image_url = 'https://allies-assets.s3.us-east-1.amazonaws.com/birthplan_builder_assets/extra_images/invoice_sample.png'"
      ],
      "metadata": {
        "id": "tkLagsqeKKMY"
      },
      "execution_count": null,
      "outputs": []
    },
    {
      "cell_type": "code",
      "source": [
        "# Path to tesseract executable\n",
        "pytesseract.pytesseract.tesseract_cmd = r'/usr/bin/tesseract'\n",
        "\n",
        "# Fetch the image from the URL\n",
        "response = requests.get(image_url)\n",
        "if response.status_code == 200:\n",
        "    image = Image.open(BytesIO(response.content))\n",
        "else:\n",
        "    print(f\"Error fetching image. HTTP status code: {response.status_code}\")\n",
        "    exit()\n",
        "\n",
        "# Get image dimensions\n",
        "image_width, image_height = image.size\n",
        "\n",
        "# Get image dimensions\n",
        "image_width, image_height = image.size\n",
        "\n",
        "# Perform OCR with Tesseract\n",
        "ocr_data = pytesseract.image_to_data(image, output_type=pytesseract.Output.DICT)"
      ],
      "metadata": {
        "id": "EJIBwYr6jmUM"
      },
      "execution_count": null,
      "outputs": []
    },
    {
      "cell_type": "code",
      "source": [
        "# Generate bounding boxes and text for OCR results\n",
        "ocr_results = []\n",
        "for i in range(len(ocr_data['text'])):\n",
        "    if ocr_data['text'][i].strip():  # Skip empty text entries\n",
        "        # Convert bbox dimensions to percentages\n",
        "        x_min = (ocr_data['left'][i] / image_width) * 100\n",
        "        y_min = (ocr_data['top'][i] / image_height) * 100\n",
        "        width = (ocr_data['width'][i] / image_width) * 100\n",
        "        height = (ocr_data['height'][i] / image_height) * 100\n",
        "\n",
        "        ocr_results.append({\n",
        "            'text': ocr_data['text'][i],\n",
        "            'bbox': [x_min, y_min, width, height],\n",
        "            'confidence': ocr_data['conf'][i]\n",
        "        })\n"
      ],
      "metadata": {
        "id": "SCgtIXc3jo2a"
      },
      "execution_count": null,
      "outputs": []
    },
    {
      "cell_type": "code",
      "source": [
        "# Save OCR results to JSON\n",
        "ocr_json_path = \"ocr_results.json\"\n",
        "with open(ocr_json_path, 'w') as f:\n",
        "    json.dump(ocr_results, f, indent=4)\n",
        "\n",
        "print(f\"OCR results saved to {ocr_json_path}\")"
      ],
      "metadata": {
        "colab": {
          "base_uri": "https://localhost:8080/"
        },
        "id": "_kky1zr9jrK8",
        "outputId": "54881faf-78fe-4b05-ee7e-52b70c521ab3"
      },
      "execution_count": null,
      "outputs": [
        {
          "output_type": "stream",
          "name": "stdout",
          "text": [
            "OCR results saved to ocr_results.json\n"
          ]
        }
      ]
    },
    {
      "cell_type": "code",
      "source": [
        "# Prepare Label Studio JSON format\n",
        "label_studio_annotations = []\n",
        "for idx, entry in enumerate(ocr_results):\n",
        "    bbox = entry[\"bbox\"]\n",
        "    label_studio_annotations.append({\n",
        "        \"id\": str(idx),  # Unique ID for each annotation\n",
        "        \"type\": \"rectanglelabels\",\n",
        "        \"from_name\": \"label\",\n",
        "        \"to_name\": \"image\",\n",
        "        \"image_rotation\": 0,\n",
        "        \"original_width\": image_width,\n",
        "        \"original_height\": image_height,\n",
        "        \"value\": {\n",
        "            \"x\": bbox[0],  # Top-left x in percentages\n",
        "            \"y\": bbox[1],  # Top-left y in percentages\n",
        "            \"width\": bbox[2],  # Width in percentages\n",
        "            \"height\": bbox[3],  # Height in percentages\n",
        "            \"rotation\": 0,  # Assuming no rotation\n",
        "            \"rectanglelabels\": [\"Detected Text\"]  # Single label for the bounding box\n",
        "        }\n",
        "    })"
      ],
      "metadata": {
        "id": "YdKdJ7CwjtSw"
      },
      "execution_count": null,
      "outputs": []
    },
    {
      "cell_type": "code",
      "execution_count": null,
      "metadata": {
        "colab": {
          "base_uri": "https://localhost:8080/"
        },
        "id": "aXUUaxsHxPAK",
        "outputId": "87ce7e35-c7ed-43d5-a3a2-eacd57994b1a"
      },
      "outputs": [
        {
          "output_type": "stream",
          "name": "stdout",
          "text": [
            "Label Studio annotation JSON saved to label_studio_output.json\n"
          ]
        }
      ],
      "source": [
        "# Generate the final Label Studio format\n",
        "final_output = [\n",
        "    {\n",
        "        \"data\": {\n",
        "            \"image\": image_url # Path to image\n",
        "        },\n",
        "        \"predictions\": [\n",
        "            {\n",
        "                \"model_version\": \"v1\",\n",
        "                \"score\": 0.9,  # Example score for the prediction\n",
        "                \"result\": label_studio_annotations\n",
        "            }\n",
        "        ]\n",
        "    }\n",
        "]\n",
        "\n",
        "# Save the Label Studio JSON\n",
        "output_path = \"label_studio_output.json\"\n",
        "with open(output_path, \"w\") as f:\n",
        "    json.dump(final_output, f, indent=4)\n",
        "\n",
        "print(f\"Label Studio annotation JSON saved to {output_path}\")\n"
      ]
    }
  ]
}